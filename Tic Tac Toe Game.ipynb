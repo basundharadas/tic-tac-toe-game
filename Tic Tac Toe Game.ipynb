{
 "cells": [
  {
   "cell_type": "markdown",
   "metadata": {},
   "source": []
  },
  {
   "cell_type": "code",
   "execution_count": 34,
   "metadata": {},
   "outputs": [],
   "source": [
    "from IPython.display import clear_output\n",
    "def display_board(board):\n",
    "    clear_output()\n",
    "    print(board[1]+'|'+board[2]+'|'+board[3])\n",
    "    print(board[4]+'|'+board[5]+'|'+board[6])\n",
    "    print(board[7]+'|'+board[8]+'|'+board[9])"
   ]
  },
  {
   "cell_type": "code",
   "execution_count": 35,
   "metadata": {},
   "outputs": [
    {
     "name": "stdout",
     "output_type": "stream",
     "text": [
      "X|O|X\n",
      "O|X|O\n",
      "X|O|X\n"
     ]
    }
   ],
   "source": [
    "test_board = ['#','X','O','X','O','X','O','X','O','X']\n",
    "display_board(test_board)"
   ]
  },
  {
   "cell_type": "code",
   "execution_count": 36,
   "metadata": {},
   "outputs": [],
   "source": [
    "def player_input():\n",
    "    ch = 'False'\n",
    "    while ch not in ['X','O']:\n",
    "        ch = input(\"Input X or O: \").upper()\n",
    "    if ch == 'X':\n",
    "        return('X','O')\n",
    "    else:\n",
    "        return('O','X')"
   ]
  },
  {
   "cell_type": "code",
   "execution_count": 37,
   "metadata": {},
   "outputs": [
    {
     "name": "stdout",
     "output_type": "stream",
     "text": [
      "Input X or O: X\n"
     ]
    }
   ],
   "source": [
    "player1, player2 = player_input()"
   ]
  },
  {
   "cell_type": "code",
   "execution_count": 38,
   "metadata": {},
   "outputs": [],
   "source": [
    "def place_marker(board, marker, position):\n",
    "    \n",
    "    board[position] = marker"
   ]
  },
  {
   "cell_type": "code",
   "execution_count": 39,
   "metadata": {},
   "outputs": [],
   "source": [
    "def win_check(board, mark):\n",
    "    #all rows and all columns and all diagonals\n",
    "    #ROWS\n",
    "    return ((board[1] == mark and board[2] == mark and board[3] == mark) \n",
    "    or (board[4] == mark and board[5] == mark and board[6] == mark)\n",
    "    or (board[7] == mark and board[8] == mark and board[9] == mark)\n",
    "    or (board[1] == mark and board[4] == mark and board[7] == mark)\n",
    "    or (board[2] == mark and board[5] == mark and board[8] == mark)\n",
    "    or (board[3] == mark and board[6] == mark and board[9] == mark)\n",
    "    or (board[1] == mark and board[5] == mark and board[9] == mark)\n",
    "    or (board[3] == mark and board[5] == mark and board[7] == mark))"
   ]
  },
  {
   "cell_type": "code",
   "execution_count": 40,
   "metadata": {},
   "outputs": [
    {
     "name": "stdout",
     "output_type": "stream",
     "text": [
      "X|O|X\n",
      "O|X|O\n",
      "X|O|X\n"
     ]
    }
   ],
   "source": [
    "win_check(test_board,'X')\n",
    "display_board(test_board)"
   ]
  },
  {
   "cell_type": "code",
   "execution_count": 41,
   "metadata": {},
   "outputs": [],
   "source": [
    "import random\n",
    "\n",
    "def choose_first():\n",
    "    flip = random.randint(0,1)\n",
    "    if flip == 0:\n",
    "        return 'Player 1'\n",
    "    else:\n",
    "        return 'Player 2'"
   ]
  },
  {
   "cell_type": "code",
   "execution_count": 42,
   "metadata": {},
   "outputs": [],
   "source": [
    "def space_check(board, position):\n",
    "    \n",
    "    return board[position] == ' '"
   ]
  },
  {
   "cell_type": "code",
   "execution_count": 43,
   "metadata": {},
   "outputs": [],
   "source": [
    "def full_board_check(board):\n",
    "    \n",
    "    for i in range(1,10):\n",
    "        if space_check(board,i):\n",
    "            return False\n",
    "    return True"
   ]
  },
  {
   "cell_type": "code",
   "execution_count": 46,
   "metadata": {},
   "outputs": [],
   "source": [
    "def player_choice(board):\n",
    "    \n",
    "    position = 0\n",
    "    while position not in [1,2,3,4,5,6,7,8,9] or not space_check(board, position):\n",
    "        position = int(input(\"Choose a position (1-9): \"))\n",
    "    return position"
   ]
  },
  {
   "cell_type": "code",
   "execution_count": 47,
   "metadata": {},
   "outputs": [],
   "source": [
    "def replay():\n",
    "    \n",
    "    ch = input(\"Wanna play again(Y,N)?: \")\n",
    "    return ch == 'Y'"
   ]
  },
  {
   "cell_type": "code",
   "execution_count": null,
   "metadata": {},
   "outputs": [
    {
     "name": "stdout",
     "output_type": "stream",
     "text": [
      "O| | \n",
      "O|X|X\n",
      "O|O|X\n",
      "PLAYER 2 HAS WON THE GAME!\n"
     ]
    }
   ],
   "source": [
    "print(\"Welcome to TIC TAC TOE GAME\")\n",
    "while True:\n",
    "    # play the game\n",
    "    # set everything up(players and their markers)\n",
    "    board = [' ']*10\n",
    "    # setting up the markers for the players\n",
    "    player1_m, player2_m = player_input()\n",
    "    # choosing the player who will go first\n",
    "    turn = choose_first()\n",
    "    print(turn+' will go first!')\n",
    "    play_game = input('Wanna start playing?(Y or N)').upper()\n",
    "    if play_game == 'Y':\n",
    "        game_on = True\n",
    "    else:\n",
    "        game_on = False\n",
    "    # game play starts\n",
    "    while game_on:\n",
    "        if turn == 'Player 1':\n",
    "            display_board(board)\n",
    "            #choose the position\n",
    "            position = player_choice(board)\n",
    "            #place the marker at the chosen position\n",
    "            place_marker(board, player1_m, position)\n",
    "            #check if they win\n",
    "            if win_check(board, player1_m):\n",
    "                display_board(board)\n",
    "                print(\"PLAYER 1 HAS WON THE GAME!\")\n",
    "                game_on = False\n",
    "            #check if there is a tie\n",
    "            else:\n",
    "                if full_board_check(board):\n",
    "                    display_board(board)\n",
    "                    print(\"GAME TIED!\")\n",
    "                    game_on = False\n",
    "                else:\n",
    "                    turn = 'Player 2'\n",
    "            #if neither cases, next player's turn\n",
    "        else:\n",
    "            display_board(board)\n",
    "            #choose the position\n",
    "            position = player_choice(board)\n",
    "            #place the marker at the chosen position\n",
    "            place_marker(board, player2_m, position)\n",
    "            #check if they win\n",
    "            if win_check(board, player2_m):\n",
    "                display_board(board)\n",
    "                print(\"PLAYER 2 HAS WON THE GAME!\")\n",
    "                game_on = False\n",
    "            #check if there is a tie\n",
    "            else:\n",
    "                if full_board_check(board):\n",
    "                    display_board(board)\n",
    "                    print(\"GAME TIED!\")\n",
    "                    game_on = False\n",
    "                else:\n",
    "                    turn = 'Player 1'\n",
    "    if not replay():\n",
    "        break"
   ]
  },
  {
   "cell_type": "code",
   "execution_count": null,
   "metadata": {},
   "outputs": [],
   "source": []
  },
  {
   "cell_type": "code",
   "execution_count": null,
   "metadata": {},
   "outputs": [],
   "source": []
  },
  {
   "cell_type": "code",
   "execution_count": null,
   "metadata": {},
   "outputs": [],
   "source": []
  },
  {
   "cell_type": "code",
   "execution_count": null,
   "metadata": {},
   "outputs": [],
   "source": []
  },
  {
   "cell_type": "code",
   "execution_count": null,
   "metadata": {},
   "outputs": [],
   "source": []
  },
  {
   "cell_type": "code",
   "execution_count": null,
   "metadata": {},
   "outputs": [],
   "source": []
  },
  {
   "cell_type": "code",
   "execution_count": null,
   "metadata": {},
   "outputs": [],
   "source": []
  },
  {
   "cell_type": "code",
   "execution_count": null,
   "metadata": {},
   "outputs": [],
   "source": []
  }
 ],
 "metadata": {
  "kernelspec": {
   "display_name": "Python 3 (ipykernel)",
   "language": "python",
   "name": "python3"
  },
  "language_info": {
   "codemirror_mode": {
    "name": "ipython",
    "version": 3
   },
   "file_extension": ".py",
   "mimetype": "text/x-python",
   "name": "python",
   "nbconvert_exporter": "python",
   "pygments_lexer": "ipython3",
   "version": "3.11.3"
  }
 },
 "nbformat": 4,
 "nbformat_minor": 1
}
